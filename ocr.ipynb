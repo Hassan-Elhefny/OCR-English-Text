{
 "cells": [
  {
   "cell_type": "code",
   "execution_count": 1,
   "metadata": {},
   "outputs": [],
   "source": [
    "#import important libraries\n",
    "import easyocr"
   ]
  },
  {
   "cell_type": "code",
   "execution_count": 2,
   "metadata": {},
   "outputs": [
    {
     "name": "stderr",
     "output_type": "stream",
     "text": [
      "CUDA not available - defaulting to CPU. Note: This module is much faster with a GPU.\n",
      "c:\\Users\\hrelh\\anaconda3\\lib\\site-packages\\torchvision\\models\\_utils.py:252: UserWarning: Accessing the model URLs via the internal dictionary of the module is deprecated since 0.13 and will be removed in 0.15. Please access them via the appropriate Weights Enum instead.\n",
      "  warnings.warn(\n",
      "c:\\Users\\hrelh\\anaconda3\\lib\\site-packages\\torchvision\\models\\_utils.py:208: UserWarning: The parameter 'pretrained' is deprecated since 0.13 and will be removed in 0.15, please use 'weights' instead.\n",
      "  warnings.warn(\n",
      "c:\\Users\\hrelh\\anaconda3\\lib\\site-packages\\torchvision\\models\\_utils.py:223: UserWarning: Arguments other than a weight enum or `None` for 'weights' are deprecated since 0.13 and will be removed in 0.15. The current behavior is equivalent to passing `weights=None`.\n",
      "  warnings.warn(msg)\n"
     ]
    }
   ],
   "source": [
    "#create object that read the text in the image\n",
    "reader = easyocr.Reader(['en'], gpu=True) #add more languages as you want ['en', 'er', etc]"
   ]
  },
  {
   "cell_type": "code",
   "execution_count": 3,
   "metadata": {},
   "outputs": [],
   "source": [
    "#use the object to get the text from the image\n",
    "text = reader.readtext(\"Screenshot 2022-09-13 111832.png\")"
   ]
  },
  {
   "cell_type": "code",
   "execution_count": 4,
   "metadata": {},
   "outputs": [
    {
     "name": "stdout",
     "output_type": "stream",
     "text": [
      "[([[37, 15], [57, 15], [57, 39], [37, 39]], '1', 0.8126952588766381), ([[74, 7], [395, 7], [395, 52], [74, 52]], 'import pytesseract', 0.9992620117262366), ([[406, 16], [446, 16], [446, 44], [406, 44]], 'as', 0.9993262226885465), ([[458, 14], [532, 14], [532, 42], [458, 42]], 'tess', 0.9999829530715942), ([[39, 57], [57, 57], [57, 83], [39, 83]], '2', 1.0), ([[76, 54], [152, 54], [152, 86], [76, 86]], 'from', 0.9997203946113586), ([[161, 52], [449, 52], [449, 94], [161, 94]], 'PIL import Image', 0.7949153553267878), ([[39, 99], [57, 99], [57, 125], [39, 125]], '3', 0.9999988079074598), ([[36, 142], [60, 142], [60, 168], [36, 168]], '4', 1.0), ([[177, 138], [361, 138], [361, 179], [177, 179]], 'Image.open', 0.998680805428479), ([[39, 183], [59, 183], [59, 211], [39, 211]], '5', 0.9999996423721633), ([[76.90111548841048, 136.15390420943672], [137.7268320069437, 144.54716718373382], [132.09888451158952, 178.84609579056328], [71.27316799305629, 170.45283281626618]], 'img', 0.9993773615377268)]\n"
     ]
    }
   ],
   "source": [
    "#print the text and it's information like position.\n",
    "print(text)"
   ]
  },
  {
   "cell_type": "code",
   "execution_count": 5,
   "metadata": {},
   "outputs": [
    {
     "name": "stdout",
     "output_type": "stream",
     "text": [
      "12\n"
     ]
    }
   ],
   "source": [
    "#print the length of the text\n",
    "print(len(text))"
   ]
  },
  {
   "cell_type": "code",
   "execution_count": 6,
   "metadata": {},
   "outputs": [
    {
     "name": "stdout",
     "output_type": "stream",
     "text": [
      "1\n",
      "import pytesseract\n",
      "as\n",
      "tess\n",
      "2\n",
      "from\n",
      "PIL import Image\n",
      "3\n",
      "4\n",
      "Image.open\n",
      "5\n",
      "img\n"
     ]
    }
   ],
   "source": [
    "#just print the original text without information of the text\n",
    "for t in text:\n",
    "    print(t[1])"
   ]
  }
 ],
 "metadata": {
  "kernelspec": {
   "display_name": "Python 3.9.12 ('base')",
   "language": "python",
   "name": "python3"
  },
  "language_info": {
   "codemirror_mode": {
    "name": "ipython",
    "version": 3
   },
   "file_extension": ".py",
   "mimetype": "text/x-python",
   "name": "python",
   "nbconvert_exporter": "python",
   "pygments_lexer": "ipython3",
   "version": "3.9.12"
  },
  "orig_nbformat": 4,
  "vscode": {
   "interpreter": {
    "hash": "64bc2431556ddb93600416b1e010991e709a1748a37f9a800cbf227570b9e496"
   }
  }
 },
 "nbformat": 4,
 "nbformat_minor": 2
}
